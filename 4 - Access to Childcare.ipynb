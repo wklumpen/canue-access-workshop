{
 "cells": [
  {
   "attachments": {},
   "cell_type": "markdown",
   "metadata": {},
   "source": [
    "# Access to Childcare Seats in Calgary\n",
    "This workbook follows the steps of the preivous three workbooks but focuses on a different measure: How many childcare seats are reachable in a reasonable transit time, and how is that access distributed among populations?\n",
    "\n",
    "This notebook walks briefly through data exploration, access analysis, and equity analysis using travel time matrices generated in the notebook `2 - Travel Times.ipynb`\n",
    "\n",
    "## Data Exploration\n",
    "Childcare locations are more abundant, and they also have a value attached to them in terms of the number of seats. To get a good sense of the distribution of seats, let's size the dots on the map based on the number of seats so we can see if there are clusters both in terms of number of options but also in terms of scale."
   ]
  },
  {
   "cell_type": "code",
   "execution_count": null,
   "metadata": {},
   "outputs": [],
   "source": [
    "import altair as alt\n",
    "import geopandas as gpd\n",
    "import pandas as pd\n",
    "PROJECTION = \"mercator\"\n",
    "\n",
    "da = gpd.read_file(\"data/da_with_locations.geojson\")\n",
    "da.head()"
   ]
  },
  {
   "cell_type": "code",
   "execution_count": null,
   "metadata": {},
   "outputs": [],
   "source": [
    "daycares = gpd.read_file(\"data/daycare_locations.geojson\")\n",
    "\n",
    "basemap = alt.Chart(da).mark_geoshape(fill=\"lightgrey\", stroke=\"lightgrey\")\n",
    "\n",
    "dayc = alt.Chart(daycares).mark_circle().encode(\n",
    "    latitude='latitude:Q',\n",
    "    longitude='longitude:Q',\n",
    "    size=alt.Size(\"capacity:Q\", title=\"Capacity\"),\n",
    "    tooltip='name:N'\n",
    ").project(\n",
    "    \"mercator\"\n",
    ").properties(\n",
    "    width=500,\n",
    "    height=400\n",
    ")\n",
    "\n",
    "basemap + dayc"
   ]
  },
  {
   "attachments": {},
   "cell_type": "markdown",
   "metadata": {},
   "source": [
    "## Import and Read Demographics\n",
    "We have already visualized these demographics in `1 - Data Exploration.ipynb`, so let's load them in. We'll also do some helpful stuff up front like defining what columns we want to use for our demographic analysis and making a dictionary that lets us map our machine-friendly names to human-friendly names."
   ]
  },
  {
   "cell_type": "code",
   "execution_count": null,
   "metadata": {},
   "outputs": [],
   "source": [
    "demographic_columns = [\"pop_total\", \"vismin_vismin\", \"lico_lico\", \"fam_onemother\"]\n",
    "demographic_names = {\n",
    "    \"pop_total\": \"Everyone\",\n",
    "    \"vismin_vismin\": \"Visible Minority\",\n",
    "    \"lico_lico\": \"Low Income\",\n",
    "    \"fam_onemother\": \"Single Mother Households\"\n",
    "}\n",
    "demographics = pd.read_csv(\"data/demographics.csv\", dtype={\"dauid\":str})\n",
    "demographics.head()"
   ]
  },
  {
   "attachments": {},
   "cell_type": "markdown",
   "metadata": {},
   "source": [
    "## Calculate the Cumulative Measure\n",
    "Here's the recipe for computing our metirc:\n",
    "1. Load in our matrix and filter out all travel times more than our specified cutoff.\n",
    "2. Load in our daycare capacity data (using the data encoded in `daycare_locations.geojson`) and merge it on the *destination* column\n",
    "3. Group by our origin zone and sum all of the daycare spots reachable from that zone in the cutoff."
   ]
  },
  {
   "cell_type": "code",
   "execution_count": null,
   "metadata": {},
   "outputs": [],
   "source": [
    "cutoff = 30\n",
    "\n",
    "# Step 1\n",
    "daycare_am = pd.read_csv(\"data/mx_daycares_am.csv\", dtype={\"from_id\":str})\n",
    "daycare_am = daycare_am[daycare_am[\"travel_time\"] < cutoff]\n",
    "\n",
    "# Step 2\n",
    "# We only need the data, not the geospatial stuff so we can drop that as we read it\n",
    "daycare_seats = pd.DataFrame(gpd.read_file(\"data/daycare_locations.geojson\").drop(columns=\"geometry\"))\n",
    "daycare_am_sum = pd.merge(daycare_am[[\"from_id\", \"to_id\"]], daycare_seats[[\"id\", \"capacity\"]], left_on=\"to_id\", right_on=\"id\")\n",
    "\n",
    "# Step 3\n",
    "daycare_am_sum = daycare_am_sum[[\"from_id\", \"capacity\"]].groupby(\"from_id\", as_index=False).sum()\n",
    "\n",
    "daycare_am_sum.head()"
   ]
  },
  {
   "attachments": {},
   "cell_type": "markdown",
   "metadata": {},
   "source": [
    "before we do our weighted summary, let's put these values on a map to see what it looks like:"
   ]
  },
  {
   "cell_type": "code",
   "execution_count": null,
   "metadata": {},
   "outputs": [],
   "source": [
    "import altair as alt\n",
    "\n",
    "da_areas = gpd.read_file(\"data/da_with_locations.geojson\")\n",
    "da_areas = pd.merge(da_areas, daycare_am_sum, left_on=\"dauid\", right_on=\"from_id\")\n",
    "da_areas\n",
    "seats = alt.Chart(da_areas).mark_geoshape().encode(\n",
    "    color=alt.Color(\"capacity:Q\", title=f\"Seats Reachable\")\n",
    ").project(PROJECTION)\n",
    "\n",
    "seats.properties(\n",
    "    title={\n",
    "        \"text\": f\"Daycare Seats Reachable in {cutoff} minutes by Transit\",\n",
    "        \"subtitle\": \"Estimates for 7-9am on Wednesday, March 15\"\n",
    "    },\n",
    "    width=700,\n",
    "    height=900\n",
    ")"
   ]
  },
  {
   "attachments": {},
   "cell_type": "markdown",
   "metadata": {},
   "source": [
    "and now let's do a weighted summary of these values:"
   ]
  },
  {
   "cell_type": "code",
   "execution_count": null,
   "metadata": {},
   "outputs": [],
   "source": [
    "daycare_am_demo = pd.merge(daycare_am_sum, demographics, left_on=\"from_id\", right_on=\"dauid\", how=\"right\")\n",
    "daycare_am_demo[\"capacity\"] = daycare_am_demo[\"capacity\"].fillna(0)\n",
    "# We also want to fill our population for our normalization\n",
    "daycare_am_demo[demographic_columns] = daycare_am_demo[demographic_columns].fillna(0)\n",
    "for c in demographic_columns:\n",
    "    daycare_am_demo[c] = daycare_am_demo[c]/daycare_am_demo[c].sum()  \n",
    "    \n",
    "# Finally we multiply our travel time by these fractional amounts and sum to get a weighted average\n",
    "daycare_am_demo = daycare_am_demo[demographic_columns].multiply(daycare_am_demo[\"capacity\"], axis=\"index\").sum().to_frame().reset_index()\n",
    "# Rename our columns to be something prettier\n",
    "daycare_am_demo.columns = [\"demographic\", \"average_seats\"]\n",
    "# Finally we do some pretty names for our plots\n",
    "daycare_am_demo[\"demo_name\"] = daycare_am_demo[\"demographic\"].map(demographic_names)\n",
    "daycare_am_demo"
   ]
  },
  {
   "attachments": {},
   "cell_type": "markdown",
   "metadata": {},
   "source": [
    "Finally, we can plot the distribution for ourselves"
   ]
  },
  {
   "cell_type": "code",
   "execution_count": null,
   "metadata": {},
   "outputs": [],
   "source": [
    "sticks = alt.Chart(daycare_am_demo).mark_bar(color=\"lightgrey\", height=4).encode(\n",
    "    alt.X(\"average_seats:Q\", title=\"Average Number of Seats\"),\n",
    "    alt.Y(\"demo_name:N\", title=\"\", sort=[\"Everyone\"])\n",
    ")\n",
    "\n",
    "lollipop = alt.Chart(daycare_am_demo).mark_circle(color=\"#559613\", size=250, opacity=1).encode(\n",
    "    alt.X(\"average_seats:Q\", title=\"Average Number of Seats\"),\n",
    "    alt.Y(\"demo_name:N\", title=\"\", sort=[\"Everyone\"])\n",
    ")\n",
    "\n",
    "(sticks+lollipop).properties(\n",
    "    title=f\"Daycare Seats Reachable in {cutoff} Minutes\",\n",
    "    width=400,\n",
    "    height=100\n",
    ").configure(\n",
    "    font=\"Lato\",\n",
    ").configure_view(\n",
    "    strokeWidth=0\n",
    ").configure_axis(\n",
    "    grid=False,\n",
    "    labelFontSize=12,\n",
    "    titleFontSize=14\n",
    ").configure_axisY(\n",
    "    labelFontWeight=\"bold\"\n",
    ").configure_title(\n",
    "    fontSize=16,\n",
    "    anchor=\"start\"\n",
    ")"
   ]
  }
 ],
 "metadata": {
  "kernelspec": {
   "display_name": "ghn",
   "language": "python",
   "name": "python3"
  },
  "language_info": {
   "codemirror_mode": {
    "name": "ipython",
    "version": 3
   },
   "file_extension": ".py",
   "mimetype": "text/x-python",
   "name": "python",
   "nbconvert_exporter": "python",
   "pygments_lexer": "ipython3",
   "version": "3.10.10"
  },
  "orig_nbformat": 4
 },
 "nbformat": 4,
 "nbformat_minor": 2
}
