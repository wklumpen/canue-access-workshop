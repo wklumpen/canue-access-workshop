{
 "cells": [
  {
   "attachments": {},
   "cell_type": "markdown",
   "metadata": {},
   "source": [
    "# Computing and Visualizing Access and Equity\n",
    "\n",
    "In this workbook we will combine the travel times we calculated in the previous notebook with the demographics visualized in the first to get an understanding of how Calgary's transit access to two opportunities (hospitals and childcare) are distributed.\n",
    "\n",
    "Our basic workflow will be this:\n",
    "1. Using the travel time matrices and destination data, calculate a metric for each DA zone\n",
    "2. Compute a population weighted sum for different population groups to see how these benefits are distributed on average.\n",
    "\n",
    "## Import and Read Demographics"
   ]
  },
  {
   "cell_type": "code",
   "execution_count": null,
   "metadata": {},
   "outputs": [],
   "source": [
    "import pandas as pd\n",
    "import geopandas as gpd\n",
    "import altair as alt\n",
    "demographic_columns = [\"pop_total\", \"vismin_vismin\", \"lico_lico\", \"fam_onemother\"]\n",
    "demographic_names = {\n",
    "    \"pop_total\": \"Everyone\",\n",
    "    \"vismin_vismin\": \"Visible Minority\",\n",
    "    \"lico_lico\": \"Low Income\",\n",
    "    \"fam_onemother\": \"Single Mother Households\"\n",
    "}\n",
    "demographics = pd.read_csv(\"data/demographics.csv\", dtype={\"dauid\":str})\n",
    "demographics.head()"
   ]
  },
  {
   "attachments": {},
   "cell_type": "markdown",
   "metadata": {},
   "source": [
    "## Access to the Nearest Hospital\n",
    "Next, lets load in our travel time matrix for the AM peak with access to hospitals. To perform a weighted summary over different demographic groups we need to do the following:\n",
    "\n",
    "1. Decide what exactly we should do with the `NaN` values. Let's for now fill them in with a 1-hour extra value.\n",
    "2. Since we are looking for *minimum travel time*, we simply group by each origin and take the minimum value.\n",
    "3. Join in the demographics data so that we have everything nicely together.\n",
    "4. Calculate the weighted average travel time to hopsitals for different demographic groups"
   ]
  },
  {
   "cell_type": "code",
   "execution_count": null,
   "metadata": {},
   "outputs": [],
   "source": [
    "hosp_am = pd.read_csv(\"data/mx_hospitals_am.csv\", dtype={\"from_id\":str})\n",
    "# Step 1\n",
    "hosp_am[\"travel_time\"] = hosp_am[\"travel_time\"].fillna(180)\n",
    "# Step 2\n",
    "hosp_am = hosp_am[[\"from_id\", \"travel_time\"]].groupby(\"from_id\", as_index=False).min()\n",
    "# Step 3\n",
    "hosp_am = pd.merge(hosp_am, demographics, left_on=\"from_id\", right_on=\"dauid\")\n",
    "# Step 4\n",
    "# Let's keep only the totals columns and the travel time that we need\n",
    "hosp_am_avg = hosp_am[[\"travel_time\", \"pop_total\", \"vismin_vismin\", \"lico_lico\", \"fam_onemother\"]].copy()\n",
    "# Now we normalize the demographic columns so we can do our weighting properly\n",
    "for c in demographic_columns:\n",
    "    hosp_am_avg[c] = hosp_am_avg[c]/hosp_am_avg[c].sum()\n",
    "# Finally we multiply our travel time by these fractional amounts and sum to get a weighted average\n",
    "hosp_am_avg = hosp_am_avg[demographic_columns].multiply(hosp_am_avg[\"travel_time\"], axis=\"index\").sum().to_frame().reset_index()\n",
    "# Rename our columns to be something prettier\n",
    "hosp_am_avg.columns = [\"demographic\", \"avg_travel_time\"]\n",
    "# Finally we do some pretty names for our plots\n",
    "hosp_am_avg[\"demo_name\"] = hosp_am_avg[\"demographic\"].map(demographic_names)\n",
    "hosp_am_avg"
   ]
  },
  {
   "attachments": {},
   "cell_type": "markdown",
   "metadata": {},
   "source": [
    "Now we have our weighted sums, lets make a plot to show them. A bar chart covers most of what we want here, so lets use a slightly fancier version: A Lollipop chart."
   ]
  },
  {
   "cell_type": "code",
   "execution_count": null,
   "metadata": {},
   "outputs": [],
   "source": [
    "sticks = alt.Chart(hosp_am_avg).mark_bar(color=\"lightgrey\", height=4).encode(\n",
    "    alt.X(\"avg_travel_time:Q\", title=\"Average Travel Time (min)\"),\n",
    "    alt.Y(\"demo_name:N\", title=\"\", sort=[\"Everyone\"])\n",
    ")\n",
    "\n",
    "lollipop = alt.Chart(hosp_am_avg).mark_circle(color=\"#823BA0\", size=250, opacity=1).encode(\n",
    "    alt.X(\"avg_travel_time:Q\", title=\"Average Travel Time (min)\"),\n",
    "    alt.Y(\"demo_name:N\", title=\"\", sort=[\"Everyone\"])\n",
    ")\n",
    "\n",
    "(sticks+lollipop).properties(\n",
    "    title=\"Average Travel Time to Hospitals (Mornings)\",\n",
    "    width=400,\n",
    "    height=100\n",
    ").configure(\n",
    "    font=\"Ubuntu\"\n",
    ").configure_view(\n",
    "    strokeWidth=0\n",
    ").configure_axis(\n",
    "    grid=False\n",
    ").configure_axisY(\n",
    "    labelFontWeight=\"bold\"\n",
    ")"
   ]
  },
  {
   "attachments": {},
   "cell_type": "markdown",
   "metadata": {},
   "source": [
    "## Comparing Two Travel Times\n",
    "We can also compare two travel time situations. For example, how big is the disparity between AM peak and evening service, and who is affected by this disparity the most?\n",
    "\n",
    "Let's build another set of access measures for the evening and compare"
   ]
  },
  {
   "cell_type": "code",
   "execution_count": null,
   "metadata": {},
   "outputs": [],
   "source": [
    "hosp_pm = pd.read_csv(\"data/mx_hospitals_pm.csv\", dtype={\"from_id\":str})\n",
    "hosp_pm[\"travel_time\"] = hosp_pm[\"travel_time\"].fillna(180)\n",
    "hosp_pm = hosp_pm[[\"from_id\", \"travel_time\"]].groupby(\"from_id\", as_index=False).min()\n",
    "hosp_pm = pd.merge(hosp_pm, demographics, left_on=\"from_id\", right_on=\"dauid\")\n",
    "# Let's keep only the totals columns and the travel time that we need\n",
    "hosp_pm_avg = hosp_pm[[\"travel_time\", \"pop_total\", \"vismin_vismin\", \"lico_lico\", \"fam_onemother\"]].copy()\n",
    "# Now we normalize the demographic columns so we can do our weighting properly\n",
    "for c in demographic_columns:\n",
    "    hosp_pm_avg[c] = hosp_pm_avg[c]/hosp_pm_avg[c].sum()\n",
    "# Finally we multiply our travel time by these fractional amounts and sum to get a weighted average\n",
    "hosp_pm_avg = hosp_pm_avg[demographic_columns].multiply(hosp_pm_avg[\"travel_time\"], axis=\"index\").sum().to_frame().reset_index()\n",
    "# Rename our columns to be something prettier\n",
    "hosp_pm_avg.columns = [\"demographic\", \"avg_travel_time\"]\n",
    "# Finally we do some pretty names for our plots\n",
    "hosp_pm_avg[\"demo_name\"] = hosp_pm_avg[\"demographic\"].map(demographic_names)\n",
    "hosp_pm_avg"
   ]
  },
  {
   "cell_type": "code",
   "execution_count": null,
   "metadata": {},
   "outputs": [],
   "source": [
    "sticks = alt.Chart(hosp_pm_avg).mark_bar(color=\"lightgrey\", height=4).encode(\n",
    "    alt.X(\"avg_travel_time:Q\", title=\"Average Travel Time (min)\"),\n",
    "    alt.Y(\"demo_name:N\", title=\"\", sort=[\"Everyone\"])\n",
    ")\n",
    "\n",
    "lollipop = alt.Chart(hosp_pm_avg).mark_circle(color=\"#823BA0\", size=250, opacity=1).encode(\n",
    "    alt.X(\"avg_travel_time:Q\", title=\"Average Travel Time (min)\"),\n",
    "    alt.Y(\"demo_name:N\", title=\"\", sort=[\"Everyone\"])\n",
    ")\n",
    "\n",
    "(sticks+lollipop).properties(\n",
    "    title=\"Average Travel Time to Hospitals (Evenings)\",\n",
    "    width=400,\n",
    "    height=100\n",
    ").configure(\n",
    "    font=\"Ubuntu\"\n",
    ").configure_view(\n",
    "    strokeWidth=0\n",
    ").configure_axis(\n",
    "    grid=False\n",
    ").configure_axisY(\n",
    "    labelFontWeight=\"bold\"\n",
    ")"
   ]
  },
  {
   "attachments": {},
   "cell_type": "markdown",
   "metadata": {},
   "source": [
    "Now we can take a difference between the two"
   ]
  },
  {
   "cell_type": "code",
   "execution_count": null,
   "metadata": {},
   "outputs": [],
   "source": [
    "hosp_am_pm = pd.merge(\n",
    "    hosp_am_avg[[\"demographic\", \"avg_travel_time\"]], \n",
    "    hosp_pm_avg[[\"demographic\", \"avg_travel_time\"]], \n",
    "    on=\"demographic\", \n",
    "    suffixes=[\"_am\", \"_pm\"]\n",
    ")\n",
    "hosp_am_pm[\"delta\"] = hosp_am_pm[\"avg_travel_time_pm\"] - hosp_am_pm[\"avg_travel_time_am\"]\n",
    "hosp_am_pm[\"demo_name\"] = hosp_am_pm[\"demographic\"].map(demographic_names)\n",
    "hosp_am_pm"
   ]
  },
  {
   "attachments": {},
   "cell_type": "markdown",
   "metadata": {},
   "source": [
    "And then we can plot this difference much as we did above"
   ]
  },
  {
   "cell_type": "code",
   "execution_count": null,
   "metadata": {},
   "outputs": [],
   "source": [
    "sticks = alt.Chart(hosp_am_pm).mark_bar(color=\"lightgrey\", height=4).encode(\n",
    "    alt.X(\"delta:Q\", title=\"Travel Time Increase (min)\"),\n",
    "    alt.Y(\"demo_name:N\", title=\"\", sort=[\"Everyone\"])\n",
    ")\n",
    "\n",
    "lollipop = alt.Chart(hosp_am_pm).mark_circle(color=\"#559613\", size=250, opacity=1).encode(\n",
    "    alt.X(\"delta:Q\", title=\"Travel Time Increase (min)\"),\n",
    "    alt.Y(\"demo_name:N\", title=\"\", sort=[\"Everyone\"])\n",
    ")\n",
    "\n",
    "(sticks+lollipop).properties(\n",
    "    title=\"Additional Evening Travel Time to Hospitals\",\n",
    "    width=400,\n",
    "    height=100\n",
    ").configure(\n",
    "    font=\"Ubuntu\",\n",
    ").configure_view(\n",
    "    strokeWidth=0\n",
    ").configure_axis(\n",
    "    grid=False,\n",
    "    labelFontSize=12,\n",
    "    titleFontSize=14\n",
    ").configure_axisY(\n",
    "    labelFontWeight=\"bold\"\n",
    ").configure_title(\n",
    "    fontSize=16,\n",
    "    anchor=\"start\"\n",
    ")"
   ]
  }
 ],
 "metadata": {
  "kernelspec": {
   "display_name": "canue",
   "language": "python",
   "name": "python3"
  },
  "language_info": {
   "codemirror_mode": {
    "name": "ipython",
    "version": 3
   },
   "file_extension": ".py",
   "mimetype": "text/x-python",
   "name": "python",
   "nbconvert_exporter": "python",
   "pygments_lexer": "ipython3",
   "version": "3.10.9"
  },
  "orig_nbformat": 4
 },
 "nbformat": 4,
 "nbformat_minor": 2
}
