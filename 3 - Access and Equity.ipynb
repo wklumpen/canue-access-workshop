{
 "cells": [
  {
   "cell_type": "markdown",
   "metadata": {},
   "source": [
    "# Computing and Visualizing Access and Equity\n",
    "\n",
    "In this workbook we will combine the travel times we calculated in the previous notebook with the demographics visualized in the first to get an understanding of how Calgary's transit access to two opportunities (hospitals and childcare) are distributed.\n",
    "\n",
    "Our basic workflow will be:\n",
    "1. Using the travel time matrices and destination data, calculate an access metric for each DA zone\n",
    "2. Compute a population weighted sum for different population groups to see how these benefits are distributed on average.\n",
    "\n",
    "## What is Access to Opportunities?\n",
    "\n",
    "Access (or accessibility) is a specific metric for quatitatively assessing a transportation system that captures both the quality of the transit supply and the land use patterns in an area. Access focuses on the ability of a transportation system to connect people (at origins) to where they want to go (at destinations).\n",
    "\n",
    "There are two broad ways of measuring access. One focuses on the total amount of possibility or opportunity that is reachable. We call this a **cumulative** measure. The other focuses on the time taken to reach the nearest (or nth) nearest opportunity. We call this a **travel time** measure. If you're a fan of mathematical nomenclature, we can think of these as *primal* and *dual* measures of access, respectively.\n",
    "\n",
    "Schematically, here's how you can think of these two measures:\n",
    "\n",
    "![title](img/access_schematic.png)\n",
    "\n",
    "Opportunities are shown with blue squares and green diamonds. A cumulative measure asks: \"From an origin, how many blue squares can we reach within a given amount of difficulty or effort (usually travel time)?\", while a travel time measure asks \"What is the closest (or 3rd closest) green diamond to my origin?\".\n",
    "\n",
    "Importantly:\n",
    "- With cumulative (primal) measures, **higher is better**.\n",
    "- With travel time (dual) measures, **lower is better**\n",
    "\n",
    "### A Little Mathematics\n",
    "\n",
    "Since we are computing these measures, it's worth having a mathematical definition to refer to if we'd like. We can generalize the computation of the two measures with:\n",
    "\n",
    "![title](img/primal_dual.png)\n",
    "\n",
    "Below are some more specific mathematical definitions.\n",
    "\n",
    "### Cumulative Measures\n",
    "The more common of the two measures above are cumulative measures. For a set of origins $i \\in I$ and a set of destinations $j \\in J$, we can calculate the access to opportunities with:\n",
    "\n",
    "\\begin{equation}\n",
    "    A_i = \\sum_{j\\in J} O_j \\  f(\\cdot)\n",
    "\\end{equation}\n",
    "\n",
    "Where $f(\\cdot)$ is a function of the cost (usually travel time) to get from $i$ to $j$, and $O_j$ is the count or value of opportunities at the destination $j$. The properties and shape of $f(\\cdot)$ depend on the model of access used. Here are some examples of common shapes of admittance (often called impedance or decay) functions.\n",
    "\n",
    "![title](img/admittances.png)\n",
    "\n",
    "In this workbook we are going to use a **rectangular** or threshold-based cutoff. These are the most intuitively explanable, as they ask \"how many opportunities are reachable in X minutes?\". Every opportunity within that X-min isochrone is counted fully, every opportunity outside is ignored:\n",
    "\n",
    "\\begin{equation}\n",
    "       f(t_{ij}; \\tau) =\n",
    "    \\begin{cases} \n",
    "      1 & t_{ij}\\leq \\tau\\\\\n",
    "      0 & \\mbox{otherwise}\n",
    "   \\end{cases}\n",
    "\\end{equation}\n",
    "\n",
    "With $t_{ij}$ being the travel time. Note that this has the drawback of counting a destination very close to $\\tau$ distance away the same as one with a travel time of zero, and a destination just over $\\tau$ the same as one just under $\\tau$.\n",
    "\n",
    "### Travel Time Measures\n",
    "Minimal cost/travel time measures find the $n$th closes (or least costly) destination and measure the travel time to that destination.\n",
    "\n",
    "\\begin{equation}\n",
    "        A'_i = \\max\\{\\min_n\\{f(\\cdot)X_j \\ \\forall j \\in J\\}\\}\n",
    "\\end{equation}\n",
    "\n",
    "where\n",
    "\n",
    "\\begin{equation}\n",
    "       X_j =\n",
    "    \\begin{cases} \n",
    "      1 & \\mbox{opportunity located at } j\\\\\n",
    "      \\infty & \\mbox{otherwise}\n",
    "   \\end{cases}\n",
    "\\end{equation}\n",
    "\n",
    "Travel time measures almost always a measure of the minimum travel time to the closest or $n$th closest, opportunity, meaning:\n",
    "\n",
    "\\begin{equation}\n",
    "f(t_{ij}) = t_{ij}\n",
    "\\end{equation}\n",
    "\n",
    "However it is certainly possible to adjust $f(\\cdot)$ to incorporate a generalized cost, or even an admittance (or impedance!) function.\n",
    "\n",
    "With that definition out of the way, let's get into calculating some of these measures.\n",
    "\n",
    "\n",
    "## Import and Read Demographics\n",
    "We have already visualized these demographics in `1 - Data Exploration.ipynb`, so let's load them in. We'll also do some helpful stuff up front like defining what columns we want to use for our demographic analysis and making a dictionary that lets us map our machine-friendly names to human-friendly names."
   ]
  },
  {
   "cell_type": "code",
   "execution_count": null,
   "metadata": {
    "tags": []
   },
   "outputs": [],
   "source": [
    "import pandas as pd\n",
    "import geopandas as gpd\n",
    "import altair as alt\n",
    "demographic_columns = [\"pop_total\", \"vismin_vismin\", \"lico_lico\", \"fam_onemother\"]\n",
    "demographic_names = {\n",
    "    \"pop_total\": \"Everyone\",\n",
    "    \"vismin_vismin\": \"Visible Minority\",\n",
    "    \"lico_lico\": \"Low Income\",\n",
    "    \"fam_onemother\": \"Single Mother Households\"\n",
    "}\n",
    "demographics = pd.read_csv(\"data/demographics.csv\", dtype={\"dauid\":str})\n",
    "demographics.head()"
   ]
  },
  {
   "cell_type": "markdown",
   "metadata": {},
   "source": [
    "## Access to the Nearest Hospital\n",
    "Next, lets load in our travel time matrix for the AM peak with access to hospitals. To perform a weighted summary over different demographic groups we need to do the following:\n",
    "\n",
    "1. Decide what exactly we should do with the `NaN` values. Let's for now fill them in with a value that's 30-min abvoe the maximum possible travel time.\n",
    "2. Since we are looking for *minimum travel time*, we simply group by each origin and take the minimum value.\n",
    "3. Join in the demographics data so that we have everything nicely together.\n",
    "4. Calculate the weighted average travel time to hopsitals for different demographic groups"
   ]
  },
  {
   "cell_type": "code",
   "execution_count": null,
   "metadata": {
    "tags": []
   },
   "outputs": [],
   "source": [
    "hosp_am = pd.read_csv(\"data/mx_hospitals_am.csv\", dtype={\"from_id\":str})\n",
    "# Step 1\n",
    "hosp_am[\"travel_time\"] = hosp_am[\"travel_time\"].fillna(180)\n",
    "# Step 2\n",
    "hosp_am = hosp_am[[\"from_id\", \"travel_time\"]].groupby(\"from_id\", as_index=False).min()\n",
    "# Step 3\n",
    "hosp_am = pd.merge(hosp_am, demographics, left_on=\"from_id\", right_on=\"dauid\")\n",
    "# Step 4\n",
    "# Let's keep only the totals columns and the travel time that we need\n",
    "hosp_am_avg = hosp_am[[\"travel_time\", \"pop_total\", \"vismin_vismin\", \"lico_lico\", \"fam_onemother\"]].copy()\n",
    "# Now we normalize the demographic columns so we can do our weighting properly\n",
    "for c in demographic_columns:\n",
    "    hosp_am_avg[c] = hosp_am_avg[c]/hosp_am_avg[c].sum()\n",
    "# Finally we multiply our travel time by these fractional amounts and sum to get a weighted average\n",
    "hosp_am_avg = hosp_am_avg[demographic_columns].multiply(hosp_am_avg[\"travel_time\"], axis=\"index\").sum().to_frame().reset_index()\n",
    "# Rename our columns to be something prettier\n",
    "hosp_am_avg.columns = [\"demographic\", \"avg_travel_time\"]\n",
    "# Finally we do some pretty names for our plots\n",
    "hosp_am_avg[\"demo_name\"] = hosp_am_avg[\"demographic\"].map(demographic_names)\n",
    "hosp_am_avg"
   ]
  },
  {
   "cell_type": "markdown",
   "metadata": {},
   "source": [
    "Now we have our weighted sums, lets make a plot to show them. A bar chart covers most of what we want here, so lets use a slightly fancier version: A Lollipop chart."
   ]
  },
  {
   "cell_type": "code",
   "execution_count": null,
   "metadata": {
    "tags": []
   },
   "outputs": [],
   "source": [
    "sticks = alt.Chart(hosp_am_avg).mark_bar(color=\"lightgrey\", height=4).encode(\n",
    "    alt.X(\"avg_travel_time:Q\", title=\"Average Travel Time (min)\"),\n",
    "    alt.Y(\"demo_name:N\", title=\"\", sort=[\"Everyone\"])\n",
    ")\n",
    "\n",
    "lollipop = alt.Chart(hosp_am_avg).mark_circle(color=\"#823BA0\", size=250, opacity=1).encode(\n",
    "    alt.X(\"avg_travel_time:Q\", title=\"Average Travel Time (min)\"),\n",
    "    alt.Y(\"demo_name:N\", title=\"\", sort=[\"Everyone\"])\n",
    ")\n",
    "\n",
    "(sticks+lollipop).properties(\n",
    "    title=\"Average Travel Time to Hospitals (Mornings)\",\n",
    "    width=400,\n",
    "    height=100\n",
    ").configure(\n",
    "    font=\"Arial\"\n",
    ").configure_view(\n",
    "    strokeWidth=0\n",
    ").configure_axis(\n",
    "    grid=False\n",
    ").configure_axisY(\n",
    "    labelFontWeight=\"bold\"\n",
    ")"
   ]
  },
  {
   "cell_type": "markdown",
   "metadata": {},
   "source": [
    "## Comparing Two Travel Times\n",
    "We can also compare two travel time situations. For example, how big is the disparity between AM peak and evening service, and who is affected by this disparity the most?\n",
    "\n",
    "Let's build another set of access measures for the evening and compare"
   ]
  },
  {
   "cell_type": "code",
   "execution_count": null,
   "metadata": {
    "tags": []
   },
   "outputs": [],
   "source": [
    "hosp_pm = pd.read_csv(\"data/mx_hospitals_pm.csv\", dtype={\"from_id\":str})\n",
    "hosp_pm[\"travel_time\"] = hosp_pm[\"travel_time\"].fillna(180)\n",
    "hosp_pm = hosp_pm[[\"from_id\", \"travel_time\"]].groupby(\"from_id\", as_index=False).min()\n",
    "hosp_pm = pd.merge(hosp_pm, demographics, left_on=\"from_id\", right_on=\"dauid\")\n",
    "# Let's keep only the totals columns and the travel time that we need\n",
    "hosp_pm_avg = hosp_pm[[\"travel_time\", \"pop_total\", \"vismin_vismin\", \"lico_lico\", \"fam_onemother\"]].copy()\n",
    "# Now we normalize the demographic columns so we can do our weighting properly\n",
    "for c in demographic_columns:\n",
    "    hosp_pm_avg[c] = hosp_pm_avg[c]/hosp_pm_avg[c].sum()\n",
    "# Finally we multiply our travel time by these fractional amounts and sum to get a weighted average\n",
    "hosp_pm_avg = hosp_pm_avg[demographic_columns].multiply(hosp_pm_avg[\"travel_time\"], axis=\"index\").sum().to_frame().reset_index()\n",
    "# Rename our columns to be something prettier\n",
    "hosp_pm_avg.columns = [\"demographic\", \"avg_travel_time\"]\n",
    "# Finally we do some pretty names for our plots\n",
    "hosp_pm_avg[\"demo_name\"] = hosp_pm_avg[\"demographic\"].map(demographic_names)\n",
    "hosp_pm_avg"
   ]
  },
  {
   "cell_type": "code",
   "execution_count": null,
   "metadata": {
    "tags": []
   },
   "outputs": [],
   "source": [
    "sticks = alt.Chart(hosp_pm_avg).mark_bar(color=\"lightgrey\", height=4).encode(\n",
    "    alt.X(\"avg_travel_time:Q\", title=\"Average Travel Time (min)\"),\n",
    "    alt.Y(\"demo_name:N\", title=\"\", sort=[\"Everyone\"])\n",
    ")\n",
    "\n",
    "lollipop = alt.Chart(hosp_pm_avg).mark_circle(color=\"#823BA0\", size=250, opacity=1).encode(\n",
    "    alt.X(\"avg_travel_time:Q\", title=\"Average Travel Time (min)\"),\n",
    "    alt.Y(\"demo_name:N\", title=\"\", sort=[\"Everyone\"])\n",
    ")\n",
    "\n",
    "(sticks+lollipop).properties(\n",
    "    title=\"Average Travel Time to Hospitals (Evenings)\",\n",
    "    width=400,\n",
    "    height=100\n",
    ").configure(\n",
    "    font=\"Lato\"\n",
    ").configure_view(\n",
    "    strokeWidth=0\n",
    ").configure_axis(\n",
    "    grid=False\n",
    ").configure_axisY(\n",
    "    labelFontWeight=\"bold\"\n",
    ")"
   ]
  },
  {
   "cell_type": "markdown",
   "metadata": {},
   "source": [
    "Now we can take a difference between the two"
   ]
  },
  {
   "cell_type": "code",
   "execution_count": null,
   "metadata": {
    "tags": []
   },
   "outputs": [],
   "source": [
    "hosp_am_pm = pd.merge(\n",
    "    hosp_am_avg[[\"demographic\", \"avg_travel_time\"]], \n",
    "    hosp_pm_avg[[\"demographic\", \"avg_travel_time\"]], \n",
    "    on=\"demographic\", \n",
    "    suffixes=[\"_am\", \"_pm\"]\n",
    ")\n",
    "hosp_am_pm[\"delta\"] = hosp_am_pm[\"avg_travel_time_pm\"] - hosp_am_pm[\"avg_travel_time_am\"]\n",
    "hosp_am_pm[\"demo_name\"] = hosp_am_pm[\"demographic\"].map(demographic_names)\n",
    "hosp_am_pm"
   ]
  },
  {
   "cell_type": "markdown",
   "metadata": {},
   "source": [
    "And then we can plot this difference much as we did above"
   ]
  },
  {
   "cell_type": "code",
   "execution_count": null,
   "metadata": {
    "tags": []
   },
   "outputs": [],
   "source": [
    "sticks = alt.Chart(hosp_am_pm).mark_bar(color=\"lightgrey\", height=4).encode(\n",
    "    alt.X(\"delta:Q\", title=\"Travel Time Increase (min)\"),\n",
    "    alt.Y(\"demo_name:N\", title=\"\", sort=[\"Everyone\"])\n",
    ")\n",
    "\n",
    "lollipop = alt.Chart(hosp_am_pm).mark_circle(color=\"#559613\", size=250, opacity=1).encode(\n",
    "    alt.X(\"delta:Q\", title=\"Travel Time Increase (min)\"),\n",
    "    alt.Y(\"demo_name:N\", title=\"\", sort=[\"Everyone\"])\n",
    ")\n",
    "\n",
    "(sticks+lollipop).properties(\n",
    "    title=\"Additional Evening Travel Time to Hospitals\",\n",
    "    width=400,\n",
    "    height=100\n",
    ").configure(\n",
    "    font=\"Lato\",\n",
    ").configure_view(\n",
    "    strokeWidth=0\n",
    ").configure_axis(\n",
    "    grid=False,\n",
    "    labelFontSize=12,\n",
    "    titleFontSize=14\n",
    ").configure_axisY(\n",
    "    labelFontWeight=\"bold\"\n",
    ").configure_title(\n",
    "    fontSize=16,\n",
    "    anchor=\"start\"\n",
    ")"
   ]
  }
 ],
 "metadata": {
  "kernelspec": {
   "display_name": "Python 3 (ipykernel)",
   "language": "python",
   "name": "python3"
  },
  "language_info": {
   "codemirror_mode": {
    "name": "ipython",
    "version": 3
   },
   "file_extension": ".py",
   "mimetype": "text/x-python",
   "name": "python",
   "nbconvert_exporter": "python",
   "pygments_lexer": "ipython3",
   "version": "3.10.10"
  }
 },
 "nbformat": 4,
 "nbformat_minor": 4
}
