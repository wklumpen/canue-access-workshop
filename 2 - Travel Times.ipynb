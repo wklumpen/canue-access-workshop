{
 "cells": [
  {
   "attachments": {},
   "cell_type": "markdown",
   "metadata": {},
   "source": [
    "# Generating Transit Travel Times with r5py\n",
    "In this workbook we are going to generate transit travel time using the Python library r5py.\n",
    "\n",
    "In our example analysis, we are interested in answering the following questions:\n",
    "\n",
    "- How is the access to hospitals distributed across different populations?\n",
    "- How is the access to child care spaces distributed across different populations?\n",
    "- How does peak-period and evening service change this access for various populations?\n",
    "\n",
    "To answer this question, we need to generate *two* travel time matrices. One for a peak period (7-9am) and for an evening period (9-11pm).\n",
    "\n",
    "The beauty of the R5 engine is that it allows us to measure a median peak-period value very easily. To do this, we start our analysis at the beginning of our specified time period (7am and 9pm) and set the duration of the analysis to 120 minutes to cover our 2-hour period.\n",
    "\n",
    "## Setting Up Data\n",
    "The first thing we need to do is set up our workbook and data so we can easily run a travel time matrix. To do an analysis we need *origin* and *destination* points. In our case, we are going to keep the calculations relatively minimal by mapping the following origin->destination travel times:\n",
    "- Dissemination area centroids -> Hospitals\n",
    "- Dissemination area centroids -> Child care locations\n",
    "\n",
    "Let's start by loading the appropriate data and setting some key settings for R5py. One little quirk we are going to need is that R5py requires our origin/destination points to be named `id`, not anything else like `dauid`. We'll make that change now."
   ]
  },
  {
   "cell_type": "code",
   "execution_count": null,
   "metadata": {},
   "outputs": [],
   "source": [
    "import sys\n",
    "import pandas as pd\n",
    "import geopandas as gpd\n",
    "\n",
    "sys.argv.append([\"--max-memory\", \"8G\"])\n",
    "\n",
    "da_centroids = gpd.read_file(\"data/da_centroids_with_locations.geojson\").rename(columns={\"dauid\":\"id\"})\n",
    "daycares = gpd.read_file(\"data/daycare_locations.geojson\")\n",
    "hospitals = gpd.read_file(\"data/hospital_locations.geojson\")"
   ]
  },
  {
   "attachments": {},
   "cell_type": "markdown",
   "metadata": {},
   "source": [
    "## Set Up Your Transport Network\n",
    "\n",
    "To calculate travel times, we need to set up a transport network (which happens to be called a `TransportNetwork` class). The transport network needs both an underlying OpenStreetMap PBF file as well as one or more GTFS feeds. So let's go ahead and set up our transport network, which takes as its first argument the path to our PBF file and as a second argument a list of paths to GTFS files (of which we only have one in Calgary)."
   ]
  },
  {
   "cell_type": "code",
   "execution_count": null,
   "metadata": {},
   "outputs": [],
   "source": [
    "from r5py import TransportNetwork\n",
    "\n",
    "transport_network = TransportNetwork(\n",
    "    \"data/Calgary.osm.pbf\",\n",
    "    [\"data/cgy-gtfs-2023-03-03.zip\"]\n",
    ")"
   ]
  },
  {
   "attachments": {},
   "cell_type": "markdown",
   "metadata": {},
   "source": [
    "This will build us a transport network which we can use to compute travel times. So let's go ahead and do that next!\n",
    "## Computing Travel Times\n",
    "\n",
    "We create a travel time matrix computer (`TravelTimeMatrixComputer`) which lets us specify a whole bunch of potential parameters, most importantly origins and destinations. Our origins are the DA centroids, and our (first) destination will be the hospital centroids:"
   ]
  },
  {
   "cell_type": "code",
   "execution_count": null,
   "metadata": {},
   "outputs": [],
   "source": [
    "import datetime\n",
    "from r5py import TravelTimeMatrixComputer, TransitMode, LegMode\n",
    "\n",
    "travel_time_computer = TravelTimeMatrixComputer(\n",
    "    transport_network,\n",
    "    origins=da_centroids,\n",
    "    destinations=hospitals,\n",
    "    departure=datetime.datetime(2023, 3, 15, 7, 0),\n",
    "    departure_time_window=datetime.timedelta(hours=2),\n",
    "    transport_modes=[TransitMode.Transit, LegMode.WALK]\n",
    ")"
   ]
  },
  {
   "attachments": {},
   "cell_type": "markdown",
   "metadata": {},
   "source": [
    "### Compute the Travel Times\n",
    "Now we're ready to run our computation. This will take a little while to run, and we'll write the matrix directly to a file"
   ]
  },
  {
   "cell_type": "code",
   "execution_count": null,
   "metadata": {},
   "outputs": [],
   "source": [
    "travel_time_matrix = travel_time_computer.compute_travel_times()\n",
    "travel_time_matrix.to_csv(\"data/mx_hospitals_am_test.csv\", index=False)"
   ]
  },
  {
   "attachments": {},
   "cell_type": "markdown",
   "metadata": {},
   "source": [
    "## Verifying our Results\n",
    "Let's do a quick verification of our results by looking at the minimum travel time to a hospital for each dissemination area and plotting that on a map using the following process:\n",
    "\n",
    "1. Read in our travel time matrix\n",
    "2. Group by the origin zone (DA) and take the minimum value\n",
    "3. Decide what to do with null values\n",
    "4. Read in our DA areas and join the grouped matrix to it\n",
    "5. Map it!\n",
    "\n",
    "Let's do steps 1-4 in the next cell. Null values mean that a hospital is unreachable in the default 2-hour travel time limit we set."
   ]
  },
  {
   "cell_type": "code",
   "execution_count": null,
   "metadata": {},
   "outputs": [],
   "source": [
    "hospital_am = pd.read_csv(\"data/mx_hospitals_am.csv\")\n",
    "hospital_am = hospital_am[[\"from_id\", \"travel_time\"]].groupby(\"from_id\", as_index=False).min()\n",
    "# Need to convert to integer for consistency in joining\n",
    "hospital_am[\"from_id\"] = hospital_am[\"from_id\"].astype(str)\n",
    "# Read in our DA file and join them together\n",
    "da_areas = gpd.read_file(\"data/da_with_locations.geojson\")\n",
    "da_areas = pd.merge(da_areas, hospital_am, left_on=\"dauid\", right_on=\"from_id\")\n",
    "da_areas.head()"
   ]
  },
  {
   "attachments": {},
   "cell_type": "markdown",
   "metadata": {},
   "source": [
    "Now we make a plot, similar to the previous workbook:"
   ]
  },
  {
   "cell_type": "code",
   "execution_count": null,
   "metadata": {},
   "outputs": [],
   "source": [
    "import altair as alt\n",
    "\n",
    "travel_time = alt.Chart(da_areas).mark_geoshape().encode(\n",
    "    color=alt.Color(\"travel_time:Q\", title=\"Travel Time (min)\")\n",
    ").project(\"mercator\")\n",
    "\n",
    "hosp = alt.Chart(hospitals).mark_circle(size=150).encode(\n",
    "    latitude='geometry.coordinates[1]:Q',\n",
    "    longitude='geometry.coordinates[0]:Q',\n",
    "    tooltip='facility_name:N'\n",
    ").project(\n",
    "    \"mercator\"\n",
    ").properties(\n",
    "    width=700,\n",
    "    height=900\n",
    ")\n",
    "\n",
    "travel_time + hosp"
   ]
  }
 ],
 "metadata": {
  "kernelspec": {
   "display_name": "canue",
   "language": "python",
   "name": "python3"
  },
  "language_info": {
   "codemirror_mode": {
    "name": "ipython",
    "version": 3
   },
   "file_extension": ".py",
   "mimetype": "text/x-python",
   "name": "python",
   "nbconvert_exporter": "python",
   "pygments_lexer": "ipython3",
   "version": "3.10.9"
  },
  "orig_nbformat": 4
 },
 "nbformat": 4,
 "nbformat_minor": 2
}
